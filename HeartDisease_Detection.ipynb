{
 "cells": [
  {
   "cell_type": "markdown",
   "metadata": {
    "id": "xHVT_FTc9oTM"
   },
   "source": [
    "# Detecting the Presence of Heart Disease\n",
    "\n",
    "#### Gregory Van"
   ]
  },
  {
   "cell_type": "markdown",
   "metadata": {},
   "source": [
    "## The Data Set"
   ]
  },
  {
   "cell_type": "markdown",
   "metadata": {},
   "source": [
    "The dataset used is the Cleveland Heart Disease database from the UCI Repository and can be viewed and downloaded here: https://archive.ics.uci.edu/ml/datasets/Heart+Disease. This dataset uses a subset of 14 out of originally 76 attributes that is part of a much larger dataset. Of the 14 attributes, 13 will be used as characteristic predictors for classifying whether or not there is presence of heart disease. The other attribute is the labels for the dataset which consist of 5 integer classes from 0 to 4 where 0 is no presence of heart disease and 1 through 4 is varying presences of heart disease. In this project we will only classify whether or not there is any presence of heart disease, hence we grouped the labels 1 through 4 into one single value of “1” so that the label is will be binary, which is described more in the “Map Data” section. \n",
    "\n",
    "The 14 attributes that will be used in this dataset are:\n",
    "1.\tAge: in years\n",
    "2.\tSex: 1 = male; 0 = female\n",
    "3.\tChest Pain (cp): type\n",
    "a.\tValue 1: typical angina\n",
    "b.\tValue 2: atypical angina\n",
    "c.\tValue 3: non-anginal pain\n",
    "d.\tValue 4: asymptomatic\n",
    "4.\tResting Blood Pressure (trestbps): in mm Hg on admission to the hospital\n",
    "5.\tSerum Cholestoral (chol): in mg/dl\n",
    "6.\tFasting Blood Sugar > 120 mg/dl (fbs): 1 = true; 0 = false\n",
    "7.\tResting Electrocardiographic (restecg): results\n",
    "a.\tValue 0: normal \n",
    "b.\tValue 1: having ST-T wave abnormality (T wave inversions and/or ST elevation or depression of > 0.05 mV) \n",
    "c.\tValue 2: showing probable or definite left ventricular hypertrophy by Estes' criteria\n",
    "8.\tMaximum Heart Rate Achieved (thalach): value\n",
    "9.\tExercise Induced Angina (exang): 1 = yes; 0 = no\n",
    "10.\tST Depression (oldpeak): induced by exercise relative to rest\n",
    "11.\tSlope of the Peak Exercise ST Segment (slope): 1, 2, or 3\n",
    "12.\tNumber of Major Vessels (ca): 0-3 colored by flourosopy\n",
    "13.\tThalassemia (thal): 3 = normal; 6 = fixed defect; 7 = reversable defect\n",
    "14.\tDiagnosis of Heart Disease (num): angiographic disease status 0-4; ground truth labels\n"
   ]
  },
  {
   "cell_type": "markdown",
   "metadata": {
    "id": "fcRiId4rJKRG"
   },
   "source": [
    "## Importing Data"
   ]
  },
  {
   "cell_type": "code",
   "execution_count": 1,
   "metadata": {
    "id": "TpnCwnJS9oTT"
   },
   "outputs": [],
   "source": [
    "# Imports\n",
    "import pandas as pd\n",
    "import numpy as np\n",
    "import seaborn as sns\n",
    "from time import time\n",
    "from sklearn.preprocessing import OneHotEncoder\n",
    "from sklearn.svm import SVC\n",
    "from sklearn.tree import DecisionTreeClassifier\n",
    "from sklearn.ensemble import RandomForestClassifier\n",
    "from sklearn.neural_network import MLPClassifier\n",
    "from sklearn.neighbors import KNeighborsClassifier\n",
    "from sklearn.model_selection import GridSearchCV\n",
    "from sklearn.preprocessing import MinMaxScaler\n",
    "from sklearn.model_selection import train_test_split\n",
    "from sklearn import metrics\n",
    "from sklearn.metrics import classification_report\n",
    "from sklearn.metrics import confusion_matrix, accuracy_score, recall_score, precision_score\n",
    "%matplotlib inline\n",
    "import matplotlib.pyplot as plt"
   ]
  },
  {
   "cell_type": "code",
   "execution_count": 2,
   "metadata": {
    "id": "82SHlhoP9oTY"
   },
   "outputs": [],
   "source": [
    "# Data location\n",
    "url = 'https://archive.ics.uci.edu/ml/machine-learning-databases/heart-disease/processed.cleveland.data'\n",
    "data = pd.read_csv(url, header=None, na_values='?')"
   ]
  },
  {
   "cell_type": "markdown",
   "metadata": {
    "id": "qS3o3HNDJTYs"
   },
   "source": [
    "## Inspecting the Raw Data"
   ]
  },
  {
   "cell_type": "code",
   "execution_count": 3,
   "metadata": {
    "colab": {
     "base_uri": "https://localhost:8080/"
    },
    "id": "lLKHOIg8-g-2",
    "outputId": "62d66043-0b25-49b5-ec46-57b46cc7e7b6"
   },
   "outputs": [
    {
     "name": "stdout",
     "output_type": "stream",
     "text": [
      "       0    1    2      3      4    5    6      7    8    9    10   11   12  \\\n",
      "0    63.0  1.0  1.0  145.0  233.0  1.0  2.0  150.0  0.0  2.3  3.0  0.0  6.0   \n",
      "1    67.0  1.0  4.0  160.0  286.0  0.0  2.0  108.0  1.0  1.5  2.0  3.0  3.0   \n",
      "2    67.0  1.0  4.0  120.0  229.0  0.0  2.0  129.0  1.0  2.6  2.0  2.0  7.0   \n",
      "3    37.0  1.0  3.0  130.0  250.0  0.0  0.0  187.0  0.0  3.5  3.0  0.0  3.0   \n",
      "4    41.0  0.0  2.0  130.0  204.0  0.0  2.0  172.0  0.0  1.4  1.0  0.0  3.0   \n",
      "..    ...  ...  ...    ...    ...  ...  ...    ...  ...  ...  ...  ...  ...   \n",
      "298  45.0  1.0  1.0  110.0  264.0  0.0  0.0  132.0  0.0  1.2  2.0  0.0  7.0   \n",
      "299  68.0  1.0  4.0  144.0  193.0  1.0  0.0  141.0  0.0  3.4  2.0  2.0  7.0   \n",
      "300  57.0  1.0  4.0  130.0  131.0  0.0  0.0  115.0  1.0  1.2  2.0  1.0  7.0   \n",
      "301  57.0  0.0  2.0  130.0  236.0  0.0  2.0  174.0  0.0  0.0  2.0  1.0  3.0   \n",
      "302  38.0  1.0  3.0  138.0  175.0  0.0  0.0  173.0  0.0  0.0  1.0  NaN  3.0   \n",
      "\n",
      "     13  \n",
      "0     0  \n",
      "1     2  \n",
      "2     1  \n",
      "3     0  \n",
      "4     0  \n",
      "..   ..  \n",
      "298   1  \n",
      "299   2  \n",
      "300   3  \n",
      "301   1  \n",
      "302   0  \n",
      "\n",
      "[303 rows x 14 columns]\n"
     ]
    }
   ],
   "source": [
    "print(data)"
   ]
  },
  {
   "cell_type": "code",
   "execution_count": 4,
   "metadata": {
    "id": "VTntWPq-BJmf"
   },
   "outputs": [],
   "source": [
    "# Set the title of all features\n",
    "feature_names = ['age','sex','cp','trestbps','chol','fbs','restecg','thalach','exang','oldpeak','slope','ca','thal','num']\n",
    "data.columns = feature_names"
   ]
  },
  {
   "cell_type": "code",
   "execution_count": 5,
   "metadata": {
    "colab": {
     "base_uri": "https://localhost:8080/",
     "height": 363
    },
    "id": "q31kQ_jhAV4h",
    "outputId": "e6614884-b0d2-4b57-c5f5-b24597f8a839"
   },
   "outputs": [
    {
     "data": {
      "text/html": [
       "<div>\n",
       "<style scoped>\n",
       "    .dataframe tbody tr th:only-of-type {\n",
       "        vertical-align: middle;\n",
       "    }\n",
       "\n",
       "    .dataframe tbody tr th {\n",
       "        vertical-align: top;\n",
       "    }\n",
       "\n",
       "    .dataframe thead th {\n",
       "        text-align: right;\n",
       "    }\n",
       "</style>\n",
       "<table border=\"1\" class=\"dataframe\">\n",
       "  <thead>\n",
       "    <tr style=\"text-align: right;\">\n",
       "      <th></th>\n",
       "      <th>age</th>\n",
       "      <th>sex</th>\n",
       "      <th>cp</th>\n",
       "      <th>trestbps</th>\n",
       "      <th>chol</th>\n",
       "      <th>fbs</th>\n",
       "      <th>restecg</th>\n",
       "      <th>thalach</th>\n",
       "      <th>exang</th>\n",
       "      <th>oldpeak</th>\n",
       "      <th>slope</th>\n",
       "      <th>ca</th>\n",
       "      <th>thal</th>\n",
       "      <th>num</th>\n",
       "    </tr>\n",
       "  </thead>\n",
       "  <tbody>\n",
       "    <tr>\n",
       "      <th>0</th>\n",
       "      <td>63.0</td>\n",
       "      <td>1.0</td>\n",
       "      <td>1.0</td>\n",
       "      <td>145.0</td>\n",
       "      <td>233.0</td>\n",
       "      <td>1.0</td>\n",
       "      <td>2.0</td>\n",
       "      <td>150.0</td>\n",
       "      <td>0.0</td>\n",
       "      <td>2.3</td>\n",
       "      <td>3.0</td>\n",
       "      <td>0.0</td>\n",
       "      <td>6.0</td>\n",
       "      <td>0</td>\n",
       "    </tr>\n",
       "    <tr>\n",
       "      <th>1</th>\n",
       "      <td>67.0</td>\n",
       "      <td>1.0</td>\n",
       "      <td>4.0</td>\n",
       "      <td>160.0</td>\n",
       "      <td>286.0</td>\n",
       "      <td>0.0</td>\n",
       "      <td>2.0</td>\n",
       "      <td>108.0</td>\n",
       "      <td>1.0</td>\n",
       "      <td>1.5</td>\n",
       "      <td>2.0</td>\n",
       "      <td>3.0</td>\n",
       "      <td>3.0</td>\n",
       "      <td>2</td>\n",
       "    </tr>\n",
       "    <tr>\n",
       "      <th>2</th>\n",
       "      <td>67.0</td>\n",
       "      <td>1.0</td>\n",
       "      <td>4.0</td>\n",
       "      <td>120.0</td>\n",
       "      <td>229.0</td>\n",
       "      <td>0.0</td>\n",
       "      <td>2.0</td>\n",
       "      <td>129.0</td>\n",
       "      <td>1.0</td>\n",
       "      <td>2.6</td>\n",
       "      <td>2.0</td>\n",
       "      <td>2.0</td>\n",
       "      <td>7.0</td>\n",
       "      <td>1</td>\n",
       "    </tr>\n",
       "    <tr>\n",
       "      <th>3</th>\n",
       "      <td>37.0</td>\n",
       "      <td>1.0</td>\n",
       "      <td>3.0</td>\n",
       "      <td>130.0</td>\n",
       "      <td>250.0</td>\n",
       "      <td>0.0</td>\n",
       "      <td>0.0</td>\n",
       "      <td>187.0</td>\n",
       "      <td>0.0</td>\n",
       "      <td>3.5</td>\n",
       "      <td>3.0</td>\n",
       "      <td>0.0</td>\n",
       "      <td>3.0</td>\n",
       "      <td>0</td>\n",
       "    </tr>\n",
       "    <tr>\n",
       "      <th>4</th>\n",
       "      <td>41.0</td>\n",
       "      <td>0.0</td>\n",
       "      <td>2.0</td>\n",
       "      <td>130.0</td>\n",
       "      <td>204.0</td>\n",
       "      <td>0.0</td>\n",
       "      <td>2.0</td>\n",
       "      <td>172.0</td>\n",
       "      <td>0.0</td>\n",
       "      <td>1.4</td>\n",
       "      <td>1.0</td>\n",
       "      <td>0.0</td>\n",
       "      <td>3.0</td>\n",
       "      <td>0</td>\n",
       "    </tr>\n",
       "    <tr>\n",
       "      <th>5</th>\n",
       "      <td>56.0</td>\n",
       "      <td>1.0</td>\n",
       "      <td>2.0</td>\n",
       "      <td>120.0</td>\n",
       "      <td>236.0</td>\n",
       "      <td>0.0</td>\n",
       "      <td>0.0</td>\n",
       "      <td>178.0</td>\n",
       "      <td>0.0</td>\n",
       "      <td>0.8</td>\n",
       "      <td>1.0</td>\n",
       "      <td>0.0</td>\n",
       "      <td>3.0</td>\n",
       "      <td>0</td>\n",
       "    </tr>\n",
       "    <tr>\n",
       "      <th>6</th>\n",
       "      <td>62.0</td>\n",
       "      <td>0.0</td>\n",
       "      <td>4.0</td>\n",
       "      <td>140.0</td>\n",
       "      <td>268.0</td>\n",
       "      <td>0.0</td>\n",
       "      <td>2.0</td>\n",
       "      <td>160.0</td>\n",
       "      <td>0.0</td>\n",
       "      <td>3.6</td>\n",
       "      <td>3.0</td>\n",
       "      <td>2.0</td>\n",
       "      <td>3.0</td>\n",
       "      <td>3</td>\n",
       "    </tr>\n",
       "    <tr>\n",
       "      <th>7</th>\n",
       "      <td>57.0</td>\n",
       "      <td>0.0</td>\n",
       "      <td>4.0</td>\n",
       "      <td>120.0</td>\n",
       "      <td>354.0</td>\n",
       "      <td>0.0</td>\n",
       "      <td>0.0</td>\n",
       "      <td>163.0</td>\n",
       "      <td>1.0</td>\n",
       "      <td>0.6</td>\n",
       "      <td>1.0</td>\n",
       "      <td>0.0</td>\n",
       "      <td>3.0</td>\n",
       "      <td>0</td>\n",
       "    </tr>\n",
       "    <tr>\n",
       "      <th>8</th>\n",
       "      <td>63.0</td>\n",
       "      <td>1.0</td>\n",
       "      <td>4.0</td>\n",
       "      <td>130.0</td>\n",
       "      <td>254.0</td>\n",
       "      <td>0.0</td>\n",
       "      <td>2.0</td>\n",
       "      <td>147.0</td>\n",
       "      <td>0.0</td>\n",
       "      <td>1.4</td>\n",
       "      <td>2.0</td>\n",
       "      <td>1.0</td>\n",
       "      <td>7.0</td>\n",
       "      <td>2</td>\n",
       "    </tr>\n",
       "    <tr>\n",
       "      <th>9</th>\n",
       "      <td>53.0</td>\n",
       "      <td>1.0</td>\n",
       "      <td>4.0</td>\n",
       "      <td>140.0</td>\n",
       "      <td>203.0</td>\n",
       "      <td>1.0</td>\n",
       "      <td>2.0</td>\n",
       "      <td>155.0</td>\n",
       "      <td>1.0</td>\n",
       "      <td>3.1</td>\n",
       "      <td>3.0</td>\n",
       "      <td>0.0</td>\n",
       "      <td>7.0</td>\n",
       "      <td>1</td>\n",
       "    </tr>\n",
       "  </tbody>\n",
       "</table>\n",
       "</div>"
      ],
      "text/plain": [
       "    age  sex   cp  trestbps   chol  fbs  restecg  thalach  exang  oldpeak  \\\n",
       "0  63.0  1.0  1.0     145.0  233.0  1.0      2.0    150.0    0.0      2.3   \n",
       "1  67.0  1.0  4.0     160.0  286.0  0.0      2.0    108.0    1.0      1.5   \n",
       "2  67.0  1.0  4.0     120.0  229.0  0.0      2.0    129.0    1.0      2.6   \n",
       "3  37.0  1.0  3.0     130.0  250.0  0.0      0.0    187.0    0.0      3.5   \n",
       "4  41.0  0.0  2.0     130.0  204.0  0.0      2.0    172.0    0.0      1.4   \n",
       "5  56.0  1.0  2.0     120.0  236.0  0.0      0.0    178.0    0.0      0.8   \n",
       "6  62.0  0.0  4.0     140.0  268.0  0.0      2.0    160.0    0.0      3.6   \n",
       "7  57.0  0.0  4.0     120.0  354.0  0.0      0.0    163.0    1.0      0.6   \n",
       "8  63.0  1.0  4.0     130.0  254.0  0.0      2.0    147.0    0.0      1.4   \n",
       "9  53.0  1.0  4.0     140.0  203.0  1.0      2.0    155.0    1.0      3.1   \n",
       "\n",
       "   slope   ca  thal  num  \n",
       "0    3.0  0.0   6.0    0  \n",
       "1    2.0  3.0   3.0    2  \n",
       "2    2.0  2.0   7.0    1  \n",
       "3    3.0  0.0   3.0    0  \n",
       "4    1.0  0.0   3.0    0  \n",
       "5    1.0  0.0   3.0    0  \n",
       "6    3.0  2.0   3.0    3  \n",
       "7    1.0  0.0   3.0    0  \n",
       "8    2.0  1.0   7.0    2  \n",
       "9    3.0  0.0   7.0    1  "
      ]
     },
     "execution_count": 5,
     "metadata": {},
     "output_type": "execute_result"
    }
   ],
   "source": [
    "data.head(10)"
   ]
  },
  {
   "cell_type": "code",
   "execution_count": 6,
   "metadata": {
    "colab": {
     "base_uri": "https://localhost:8080/"
    },
    "id": "UYj5nBnhQ8LM",
    "outputId": "0b3a628b-3f90-474f-8c01-1b5e5bd8d311"
   },
   "outputs": [
    {
     "name": "stdout",
     "output_type": "stream",
     "text": [
      "Number of Occurences:\n",
      " 0    164\n",
      "1     55\n",
      "2     36\n",
      "3     35\n",
      "4     13\n",
      "Name: num, dtype: int64\n"
     ]
    }
   ],
   "source": [
    "# See how the data is split for the labels in the num column\n",
    "print(\"Number of Occurences:\\n\", data.num.value_counts())"
   ]
  },
  {
   "cell_type": "markdown",
   "metadata": {
    "id": "GvFcaQufI4c7"
   },
   "source": [
    "## Preprocessing the Data"
   ]
  },
  {
   "cell_type": "markdown",
   "metadata": {
    "id": "4tMGu85CJotg"
   },
   "source": [
    "### Missing Values\n",
    "First we will check if our dataset has missing values. If it does, then we will have to deal with them."
   ]
  },
  {
   "cell_type": "code",
   "execution_count": 7,
   "metadata": {
    "colab": {
     "base_uri": "https://localhost:8080/"
    },
    "id": "tE5SUL32JaaD",
    "outputId": "1006ad40-e44f-4ddb-9bb0-53741adda7fe"
   },
   "outputs": [
    {
     "data": {
      "text/plain": [
       "age         0\n",
       "sex         0\n",
       "cp          0\n",
       "trestbps    0\n",
       "chol        0\n",
       "fbs         0\n",
       "restecg     0\n",
       "thalach     0\n",
       "exang       0\n",
       "oldpeak     0\n",
       "slope       0\n",
       "ca          4\n",
       "thal        2\n",
       "num         0\n",
       "dtype: int64"
      ]
     },
     "execution_count": 7,
     "metadata": {},
     "output_type": "execute_result"
    }
   ],
   "source": [
    "data.isnull().sum()"
   ]
  },
  {
   "cell_type": "markdown",
   "metadata": {
    "id": "BqBQ_XQ-g71i"
   },
   "source": [
    "Since we only have 6 values that have missing values, we will just drop those  rows of data that contain the missing values."
   ]
  },
  {
   "cell_type": "code",
   "execution_count": 8,
   "metadata": {
    "colab": {
     "base_uri": "https://localhost:8080/"
    },
    "id": "ZB_T2a0bODsj",
    "outputId": "87f5ceb5-8541-4460-b0a9-e27935e49a02"
   },
   "outputs": [
    {
     "name": "stdout",
     "output_type": "stream",
     "text": [
      "(297, 14)\n"
     ]
    }
   ],
   "source": [
    "# Drop rows that have missing values in them.\n",
    "data = data.dropna()\n",
    "print(data.shape)"
   ]
  },
  {
   "cell_type": "markdown",
   "metadata": {
    "id": "sPlM87sMb4V5"
   },
   "source": [
    "### Map Data"
   ]
  },
  {
   "cell_type": "markdown",
   "metadata": {
    "id": "zAJ-_lxuhPtS"
   },
   "source": [
    "To make the classification a bit easier, we will create a binary model that detects whether or not there is any presence of heart disease. To do that we will map (group) target values of 1-4 as 1 which indicates that there is some presence of heart disease."
   ]
  },
  {
   "cell_type": "code",
   "execution_count": 9,
   "metadata": {
    "colab": {
     "base_uri": "https://localhost:8080/"
    },
    "id": "6bOpLibNb7R8",
    "outputId": "5005dff0-e475-49ca-dcca-06a8320a4d00"
   },
   "outputs": [
    {
     "name": "stdout",
     "output_type": "stream",
     "text": [
      "Number of Occurences:\n",
      " 0    160\n",
      "1    137\n",
      "Name: num, dtype: int64\n"
     ]
    }
   ],
   "source": [
    "# Map target values of 1-4 as 1\n",
    "data['num'] = data.num.map({0: 0, 1: 1, 2: 1, 3: 1, 4: 1})\n",
    "print(\"Number of Occurences:\\n\", data.num.value_counts())"
   ]
  },
  {
   "cell_type": "markdown",
   "metadata": {},
   "source": [
    "### Categorical Features"
   ]
  },
  {
   "cell_type": "markdown",
   "metadata": {},
   "source": [
    "Some of the categorical features have numerical values but they should not have a hierarchical ranking to them. In order to avoid having our models misinterpret the data as having a hierarchy, we will use an one hot encode method.\n",
    "\n",
    "In our dataset, the multi-label categorical features are Chest pain type (cp), Resting electrocardiography results (restecg), Slope of peak exercise ST segment (slope) and Thalium stress test result (thal). Of these features, restecg, slope and thal do not have a hierarchy."
   ]
  },
  {
   "cell_type": "code",
   "execution_count": 10,
   "metadata": {
    "colab": {
     "base_uri": "https://localhost:8080/"
    },
    "id": "r50LmYgD9oTZ",
    "outputId": "c2abf3e1-53bb-497b-c865-82fcc3b82f44"
   },
   "outputs": [
    {
     "name": "stdout",
     "output_type": "stream",
     "text": [
      "(297, 13)\n",
      "(297,)\n"
     ]
    }
   ],
   "source": [
    "# First we need to split the data into dependent (X) variables and independent variable (y).\n",
    "X = data.loc[:,'age':'thal']# Features used to train the model\n",
    "y = data.num # Target variable\n",
    "print(X.shape)\n",
    "print(y.shape)"
   ]
  },
  {
   "cell_type": "code",
   "execution_count": 11,
   "metadata": {},
   "outputs": [
    {
     "name": "stdout",
     "output_type": "stream",
     "text": [
      "      age  sex   cp  trestbps   chol  fbs  thalach  exang  oldpeak   ca  \\\n",
      "0    63.0  1.0  1.0     145.0  233.0  1.0    150.0    0.0      2.3  0.0   \n",
      "1    67.0  1.0  4.0     160.0  286.0  0.0    108.0    1.0      1.5  3.0   \n",
      "2    67.0  1.0  4.0     120.0  229.0  0.0    129.0    1.0      2.6  2.0   \n",
      "3    37.0  1.0  3.0     130.0  250.0  0.0    187.0    0.0      3.5  0.0   \n",
      "4    41.0  0.0  2.0     130.0  204.0  0.0    172.0    0.0      1.4  0.0   \n",
      "..    ...  ...  ...       ...    ...  ...      ...    ...      ...  ...   \n",
      "297  57.0  0.0  4.0     140.0  241.0  0.0    123.0    1.0      0.2  0.0   \n",
      "298  45.0  1.0  1.0     110.0  264.0  0.0    132.0    0.0      1.2  0.0   \n",
      "299  68.0  1.0  4.0     144.0  193.0  1.0    141.0    0.0      3.4  2.0   \n",
      "300  57.0  1.0  4.0     130.0  131.0  0.0    115.0    1.0      1.2  1.0   \n",
      "301  57.0  0.0  2.0     130.0  236.0  0.0    174.0    0.0      0.0  1.0   \n",
      "\n",
      "     restecg_0.0  restecg_1.0  restecg_2.0  slope_1.0  slope_2.0  slope_3.0  \\\n",
      "0              0            0            1          0          0          1   \n",
      "1              0            0            1          0          1          0   \n",
      "2              0            0            1          0          1          0   \n",
      "3              1            0            0          0          0          1   \n",
      "4              0            0            1          1          0          0   \n",
      "..           ...          ...          ...        ...        ...        ...   \n",
      "297            1            0            0          0          1          0   \n",
      "298            1            0            0          0          1          0   \n",
      "299            1            0            0          0          1          0   \n",
      "300            1            0            0          0          1          0   \n",
      "301            0            0            1          0          1          0   \n",
      "\n",
      "     thal_3.0  thal_6.0  thal_7.0  \n",
      "0           0         1         0  \n",
      "1           1         0         0  \n",
      "2           0         0         1  \n",
      "3           1         0         0  \n",
      "4           1         0         0  \n",
      "..        ...       ...       ...  \n",
      "297         0         0         1  \n",
      "298         0         0         1  \n",
      "299         0         0         1  \n",
      "300         0         0         1  \n",
      "301         1         0         0  \n",
      "\n",
      "[297 rows x 19 columns]\n"
     ]
    }
   ],
   "source": [
    "# To achieve categorical data encoding, we will use the get_dummies() Pandas method. \n",
    "# Note that this is done before splitting the data into train/test so that we do not have any chance of unknown categories after the split.\n",
    "X = pd.get_dummies(X, columns = ['restecg', 'slope', 'thal'])\n",
    "print(X)"
   ]
  },
  {
   "cell_type": "markdown",
   "metadata": {
    "id": "q3HWjfeWcTy-"
   },
   "source": [
    "### Scaling"
   ]
  },
  {
   "cell_type": "markdown",
   "metadata": {
    "id": "1R6v22behx11"
   },
   "source": [
    "Since we will be testing SVM, KNN and NN algorithms for our models, it is important that we scale our data."
   ]
  },
  {
   "cell_type": "code",
   "execution_count": 12,
   "metadata": {
    "id": "VTDuDGKRcS30"
   },
   "outputs": [],
   "source": [
    "scaler = MinMaxScaler()\n",
    "X = scaler.fit_transform(X)"
   ]
  },
  {
   "cell_type": "markdown",
   "metadata": {
    "id": "db-uUOOAbzKI"
   },
   "source": [
    "### Split Data"
   ]
  },
  {
   "cell_type": "markdown",
   "metadata": {
    "id": "DVjqn6F9hiO_"
   },
   "source": [
    "We will split the data into training and test sets. The model will be built and tuned based off of the training data and then tested on the test data."
   ]
  },
  {
   "cell_type": "code",
   "execution_count": 13,
   "metadata": {
    "id": "7jzsJRpB9oTa"
   },
   "outputs": [],
   "source": [
    "# State random state variable\n",
    "rstate=42\n",
    "\n",
    "# using scikit learn train_test_split method to split into 80% for training, 20% for test\n",
    "X_train, X_test, y_train, y_test = train_test_split(X, y, test_size=0.2, random_state=rstate, stratify=y)"
   ]
  },
  {
   "cell_type": "markdown",
   "metadata": {
    "id": "f_9XS5Xt7GXp"
   },
   "source": [
    "## Visualization"
   ]
  },
  {
   "cell_type": "markdown",
   "metadata": {
    "id": "L0vwsAlp7OtY"
   },
   "source": [
    "Charts of the data will give us a better understanding of the data. For each of the 13 attributes, a chart was created to illustrate if any correlation between that attribute and the presence of heart disease exist. This is done to isolate each the characteristics to quickly see which ones are likely high indicators of heart disease."
   ]
  },
  {
   "cell_type": "code",
   "execution_count": 14,
   "metadata": {
    "colab": {
     "base_uri": "https://localhost:8080/",
     "height": 767
    },
    "id": "57NkURB17NXy",
    "outputId": "8ca63421-66a0-4ace-b8fe-f71a7ca11fc0"
   },
   "outputs": [
    {
     "data": {
      "image/png": "[encoded data removed]",
      "text/plain": [
       "<Figure size 1350x720 with 1 Axes>"
      ]
     },
     "metadata": {
      "needs_background": "light"
     },
     "output_type": "display_data"
    }
   ],
   "source": [
    "#Age and Heart Disease\n",
    "sns.set_context(\"paper\", font_scale = 1.2, rc = {\"font.size\": 15,\"axes.titlesize\": 25,\"axes.labelsize\": 20}) \n",
    "g = sns.catplot(kind = 'count', data = data, x = 'age', hue = 'num', order = data['age'].sort_values().unique(), height=10, aspect=15/8, legend=False)\n",
    "plt.legend(['Heart Disease Not Present', 'Heart Disease Present'],loc='upper right', bbox_to_anchor=(1, 1))\n",
    "xtick = data['age'].sort_values().unique()\n",
    "g.set_xticklabels(xtick.astype(int))\n",
    "plt.title('Age versus Heart Disease')\n",
    "plt.show()"
   ]
  },
  {
   "cell_type": "code",
   "execution_count": 15,
   "metadata": {
    "colab": {
     "base_uri": "https://localhost:8080/",
     "height": 406
    },
    "id": "zzeuCyKDGk-_",
    "outputId": "0e3aec37-c41b-4c8a-bce5-06411c713c0a"
   },
   "outputs": [
    {
     "data": {
      "image/png": "[encoded data removed]",
      "text/plain": [
       "<Figure size 360x360 with 1 Axes>"
      ]
     },
     "metadata": {
      "needs_background": "light"
     },
     "output_type": "display_data"
    }
   ],
   "source": [
    "#Gender and Heart Disease\n",
    "sns.catplot(kind = 'count', data = data, x = 'sex', hue = 'num', legend=False)\n",
    "plt.xticks([0,1],['Female','Male'])\n",
    "plt.title('Gender versus Heart Disease')\n",
    "plt.legend(['Heart Disease Not Present', 'Heart Disease Present'],loc='upper right', bbox_to_anchor=(1.75, 1))\n",
    "plt.show()"
   ]
  },
  {
   "cell_type": "code",
   "execution_count": 16,
   "metadata": {
    "colab": {
     "base_uri": "https://localhost:8080/",
     "height": 479
    },
    "id": "_yRLUxLBwEhB",
    "outputId": "0893e997-3888-4993-ad19-f3a5ab4ea61b"
   },
   "outputs": [
    {
     "data": {
      "image/png": "[encoded data removed]",
      "text/plain": [
       "<Figure size 360x360 with 1 Axes>"
      ]
     },
     "metadata": {
      "needs_background": "light"
     },
     "output_type": "display_data"
    },
    {
     "name": "stdout",
     "output_type": "stream",
     "text": [
      "cp Value 1: typical angina\n",
      "cp Value 2: atypical angina\n",
      "cp Value 3: non-anginal pain\n",
      "cp Value 4: asymptomatic\n"
     ]
    }
   ],
   "source": [
    "#cp and Heart Disease\n",
    "sns.catplot(kind = 'count', data = data, x = 'cp', hue = 'num', legend=False)\n",
    "plt.title('cp versus Heart Disease')\n",
    "plt.legend(['Heart Disease Not Present', 'Heart Disease Present'],loc='upper right', bbox_to_anchor=(1.75, 1))\n",
    "plt.show()\n",
    "print(\"cp Value 1: typical angina\")\n",
    "print(\"cp Value 2: atypical angina\")\n",
    "print(\"cp Value 3: non-anginal pain\")\n",
    "print(\"cp Value 4: asymptomatic\")"
   ]
  },
  {
   "cell_type": "code",
   "execution_count": 17,
   "metadata": {
    "colab": {
     "base_uri": "https://localhost:8080/",
     "height": 498
    },
    "id": "HlRundBtw0lb",
    "outputId": "6407135c-a370-4e0f-b7ee-690f22e90f77"
   },
   "outputs": [
    {
     "data": {
      "image/png": "[encoded data removed]",
      "text/plain": [
       "<Figure size 360x360 with 1 Axes>"
      ]
     },
     "metadata": {
      "needs_background": "light"
     },
     "output_type": "display_data"
    },
    {
     "name": "stdout",
     "output_type": "stream",
     "text": [
      "trestbps: resting blood pressure (in mm Hg on admission to the hospital)\n",
      "num\n",
      "0    129.175000\n",
      "1    134.635036\n",
      "Name: trestbps, dtype: float64\n"
     ]
    }
   ],
   "source": [
    "#trestbps and Heart Disease\n",
    "sns.catplot(data = data, x='num', y='trestbps', kind=\"box\")\n",
    "sns.stripplot(data = data, x='num', y='trestbps', alpha=0.3, color='k')\n",
    "plt.title('trestbps versus Heart Disease')\n",
    "plt.xticks([0,1],['No','Yes'])\n",
    "plt.xlabel('Heart Disease Presence')\n",
    "plt.show()\n",
    "print(\"trestbps: resting blood pressure (in mm Hg on admission to the hospital)\")\n",
    "means = data.groupby('num')['trestbps'].mean()\n",
    "print (means)"
   ]
  },
  {
   "cell_type": "code",
   "execution_count": 18,
   "metadata": {
    "colab": {
     "base_uri": "https://localhost:8080/",
     "height": 516
    },
    "id": "wIVyu8-azZyp",
    "outputId": "4d3018b8-5b15-46cf-ee05-f8b5940082cc"
   },
   "outputs": [
    {
     "data": {
      "image/png": "[encoded data removed]",
      "text/plain": [
       "<Figure size 360x360 with 1 Axes>"
      ]
     },
     "metadata": {
      "needs_background": "light"
     },
     "output_type": "display_data"
    },
    {
     "name": "stdout",
     "output_type": "stream",
     "text": [
      "chol: serum cholestoral in mg/dl\n",
      "Averages:\n",
      " num\n",
      "0    243.493750\n",
      "1    251.854015\n",
      "Name: chol, dtype: float64\n"
     ]
    }
   ],
   "source": [
    "#Cholestoral and Heart Disease\n",
    "sns.catplot(data = data, x = 'num', y = 'chol', kind=\"box\")\n",
    "sns.stripplot(data = data, x='num', y='chol', alpha=0.3, color='k')\n",
    "plt.title('Cholestoral versus Heart Disease')\n",
    "plt.xticks([0,1],['No','Yes'])\n",
    "plt.xlabel('Heart Disease Presence')\n",
    "plt.show()\n",
    "print(\"chol: serum cholestoral in mg/dl\")\n",
    "means = data.groupby('num')['chol'].mean()\n",
    "print ('Averages:\\n', means)"
   ]
  },
  {
   "cell_type": "code",
   "execution_count": 19,
   "metadata": {
    "colab": {
     "base_uri": "https://localhost:8080/",
     "height": 424
    },
    "id": "bLsEMM5j2Itq",
    "outputId": "1b2583cd-19eb-4ea4-90df-82cb58175d1c"
   },
   "outputs": [
    {
     "data": {
      "image/png": "[encoded data removed]",
      "text/plain": [
       "<Figure size 360x360 with 1 Axes>"
      ]
     },
     "metadata": {
      "needs_background": "light"
     },
     "output_type": "display_data"
    },
    {
     "name": "stdout",
     "output_type": "stream",
     "text": [
      "fbs: (fasting blood sugar > 120 mg/dl) (1 = true; 0 = false)\n"
     ]
    }
   ],
   "source": [
    "#fbs and Heart Disease\n",
    "sns.catplot(kind = 'count', data = data, x = 'fbs', hue = 'num', legend=False)\n",
    "plt.xticks([0,1],['False','True'])\n",
    "plt.title('Fasting Blood Sugar versus Heart Disease')\n",
    "plt.legend(['Heart Disease Not Present', 'Heart Disease Present'],loc='upper right', bbox_to_anchor=(1.75, 1))\n",
    "plt.show()\n",
    "print(\"fbs: (fasting blood sugar > 120 mg/dl) (1 = true; 0 = false)\")"
   ]
  },
  {
   "cell_type": "code",
   "execution_count": 20,
   "metadata": {
    "colab": {
     "base_uri": "https://localhost:8080/",
     "height": 479
    },
    "id": "vQmAmq4l2t7Z",
    "outputId": "b71bc557-6291-49b4-b7ee-491c246e35d6"
   },
   "outputs": [
    {
     "data": {
      "image/png": "[encoded data removed]",
      "text/plain": [
       "<Figure size 360x360 with 1 Axes>"
      ]
     },
     "metadata": {
      "needs_background": "light"
     },
     "output_type": "display_data"
    },
    {
     "name": "stdout",
     "output_type": "stream",
     "text": [
      "restecg: resting electrocardiographic results\n",
      "restecg Value 0: normal\n",
      "restecg Value 1: having ST-T wave abnormality (T wave inversions and/or ST elevation or depression of > 0.05 mV) \n",
      "restecg Value 2: showing probable or definite left ventricular hypertrophy by Estes' criteria\n"
     ]
    }
   ],
   "source": [
    "#Resting Electrocardiographic and Heart Disease\n",
    "sns.catplot(kind = 'count', data = data, x = 'restecg', hue = 'num', legend=False)\n",
    "plt.title('restecg versus Heart Disease')\n",
    "plt.legend(['Heart Disease Not Present', 'Heart Disease Present'],loc='upper right', bbox_to_anchor=(1.75, 1))\n",
    "plt.show()\n",
    "print(\"restecg: resting electrocardiographic results\")\n",
    "print(\"restecg Value 0: normal\")\n",
    "print(\"restecg Value 1: having ST-T wave abnormality (T wave inversions and/or ST elevation or depression of > 0.05 mV) \")\n",
    "print(\"restecg Value 2: showing probable or definite left ventricular hypertrophy by Estes' criteria\")"
   ]
  },
  {
   "cell_type": "code",
   "execution_count": 21,
   "metadata": {
    "colab": {
     "base_uri": "https://localhost:8080/",
     "height": 516
    },
    "id": "JnhqpnJu3n2w",
    "outputId": "d406e7d0-05c8-4d39-a6e7-45f170709e88"
   },
   "outputs": [
    {
     "data": {
      "image/png": "[encoded data removed]",
      "text/plain": [
       "<Figure size 360x360 with 1 Axes>"
      ]
     },
     "metadata": {
      "needs_background": "light"
     },
     "output_type": "display_data"
    },
    {
     "name": "stdout",
     "output_type": "stream",
     "text": [
      "thalach: maximum heart rate achieved\n",
      "Averages:\n",
      " num\n",
      "0    158.581250\n",
      "1    139.109489\n",
      "Name: thalach, dtype: float64\n"
     ]
    }
   ],
   "source": [
    "#Max Heart Rate and Heart Disease\n",
    "sns.catplot(data = data, x = 'num', y = 'thalach', kind=\"box\")\n",
    "sns.stripplot(data = data, x='num', y='thalach', alpha=0.3, color='k')\n",
    "plt.title('Max Heart Rate versus Heart Disease')\n",
    "plt.xticks([0,1],['No','Yes'])\n",
    "plt.xlabel('Heart Disease Presence')\n",
    "plt.show()\n",
    "print(\"thalach: maximum heart rate achieved\")\n",
    "means = data.groupby('num')['thalach'].mean()\n",
    "print ('Averages:\\n', means)"
   ]
  },
  {
   "cell_type": "code",
   "execution_count": 22,
   "metadata": {
    "colab": {
     "base_uri": "https://localhost:8080/",
     "height": 424
    },
    "id": "yBIKiVit4QPF",
    "outputId": "0a586781-3363-4c53-c666-15dd05d088c1"
   },
   "outputs": [
    {
     "data": {
      "image/png": "[encoded data removed]",
      "text/plain": [
       "<Figure size 360x360 with 1 Axes>"
      ]
     },
     "metadata": {
      "needs_background": "light"
     },
     "output_type": "display_data"
    },
    {
     "name": "stdout",
     "output_type": "stream",
     "text": [
      "exang: exercise induced angina (1 = yes; 0 = no) \n"
     ]
    }
   ],
   "source": [
    "#Exercise Induced Angina and Heart Disease\n",
    "sns.catplot(kind = 'count', data = data, x = 'exang', hue = 'num', legend=False)\n",
    "plt.xticks([0,1],['No','Yes'])\n",
    "plt.title('exang versus Heart Disease')\n",
    "plt.legend(['Heart Disease Not Present', 'Heart Disease Present'],loc='upper right', bbox_to_anchor=(1.75, 1))\n",
    "plt.show()\n",
    "print(\"exang: exercise induced angina (1 = yes; 0 = no) \")"
   ]
  },
  {
   "cell_type": "code",
   "execution_count": 23,
   "metadata": {
    "colab": {
     "base_uri": "https://localhost:8080/",
     "height": 516
    },
    "id": "P5njtJO14wU6",
    "outputId": "300744a0-4fc4-4d8c-b3d8-763e6a0214ce"
   },
   "outputs": [
    {
     "data": {
      "image/png": "[encoded data removed]",
      "text/plain": [
       "<Figure size 360x360 with 1 Axes>"
      ]
     },
     "metadata": {
      "needs_background": "light"
     },
     "output_type": "display_data"
    },
    {
     "name": "stdout",
     "output_type": "stream",
     "text": [
      "oldpeak = ST depression induced by exercise relative to rest\n",
      "Averages:\n",
      " num\n",
      "0    0.598750\n",
      "1    1.589051\n",
      "Name: oldpeak, dtype: float64\n"
     ]
    }
   ],
   "source": [
    "#oldpeak and Heart Disease\n",
    "sns.catplot(data = data, x = 'num', y = 'oldpeak', kind=\"box\")\n",
    "sns.stripplot(data = data, x='num', y='oldpeak', alpha=0.3, color='k')\n",
    "plt.title('oldpeak versus Heart Disease')\n",
    "plt.xticks([0,1],['No','Yes'])\n",
    "plt.xlabel('Heart Disease Presence')\n",
    "plt.show()\n",
    "print(\"oldpeak = ST depression induced by exercise relative to rest\")\n",
    "means = data.groupby('num')['oldpeak'].mean()\n",
    "print ('Averages:\\n', means)"
   ]
  },
  {
   "cell_type": "code",
   "execution_count": 24,
   "metadata": {
    "colab": {
     "base_uri": "https://localhost:8080/",
     "height": 424
    },
    "id": "EfY-zj2mBkZO",
    "outputId": "2995882d-23e1-4068-a74c-7746012db6f0"
   },
   "outputs": [
    {
     "data": {
      "image/png": "[encoded data removed]",
      "text/plain": [
       "<Figure size 360x360 with 1 Axes>"
      ]
     },
     "metadata": {
      "needs_background": "light"
     },
     "output_type": "display_data"
    },
    {
     "name": "stdout",
     "output_type": "stream",
     "text": [
      "slope: the slope of the peak exercise ST segment\n"
     ]
    }
   ],
   "source": [
    "#slope and Heart Disease\n",
    "sns.catplot(kind = 'count', data = data, x = 'slope', hue = 'num', legend=False)\n",
    "plt.title('slope versus Heart Disease')\n",
    "plt.legend(['Heart Disease Not Present', 'Heart Disease Present'],loc='upper right', bbox_to_anchor=(1.75, 1))\n",
    "plt.show()\n",
    "print(\"slope: the slope of the peak exercise ST segment\")"
   ]
  },
  {
   "cell_type": "code",
   "execution_count": 25,
   "metadata": {
    "colab": {
     "base_uri": "https://localhost:8080/",
     "height": 424
    },
    "id": "eof1zlKCCsTc",
    "outputId": "ab1f5ade-25fd-443a-ac6a-efa4d505173f"
   },
   "outputs": [
    {
     "data": {
      "image/png": "[encoded data removed]",
      "text/plain": [
       "<Figure size 360x360 with 1 Axes>"
      ]
     },
     "metadata": {
      "needs_background": "light"
     },
     "output_type": "display_data"
    },
    {
     "name": "stdout",
     "output_type": "stream",
     "text": [
      "ca: number of major vessels (0-3) colored by flourosopy\n"
     ]
    }
   ],
   "source": [
    "#ca and Heart Disease\n",
    "sns.catplot(kind = 'count', data = data, x = 'ca', hue = 'num', legend=False)\n",
    "plt.title('ca versus Heart Disease')\n",
    "plt.legend(['Heart Disease Not Present', 'Heart Disease Present'],loc='upper right', bbox_to_anchor=(1.75, 1))\n",
    "plt.show()\n",
    "print(\"ca: number of major vessels (0-3) colored by flourosopy\")"
   ]
  },
  {
   "cell_type": "code",
   "execution_count": 26,
   "metadata": {
    "colab": {
     "base_uri": "https://localhost:8080/",
     "height": 424
    },
    "id": "lrJQDhvKEzsz",
    "outputId": "b631664b-48f6-47d3-e980-3ad436b9dd95"
   },
   "outputs": [
    {
     "data": {
      "image/png": "[encoded data removed]",
      "text/plain": [
       "<Figure size 360x360 with 1 Axes>"
      ]
     },
     "metadata": {
      "needs_background": "light"
     },
     "output_type": "display_data"
    },
    {
     "name": "stdout",
     "output_type": "stream",
     "text": [
      "thal: 3 = normal; 6 = fixed defect; 7 = reversable defect\n"
     ]
    }
   ],
   "source": [
    "#thal and Heart Disease\n",
    "sns.catplot(kind = 'count', data = data, x = 'thal', hue = 'num', legend=False)\n",
    "plt.title('thal versus Heart Disease')\n",
    "plt.legend(['Heart Disease Not Present', 'Heart Disease Present'],loc='upper right', bbox_to_anchor=(1.75, 1))\n",
    "plt.show()\n",
    "print(\"thal: 3 = normal; 6 = fixed defect; 7 = reversable defect\")"
   ]
  },
  {
   "cell_type": "markdown",
   "metadata": {
    "id": "9AwTCtRcPmW6"
   },
   "source": [
    "## Models"
   ]
  },
  {
   "cell_type": "markdown",
   "metadata": {
    "id": "WHY6QnlrTw7P"
   },
   "source": [
    "We will assess 5 different models and tune parameters for each one using the grid search technique with cross validation. The best hyperparameters for each model will be stored in a collection called best_models."
   ]
  },
  {
   "cell_type": "code",
   "execution_count": 27,
   "metadata": {
    "id": "HPeYaxSPTv31"
   },
   "outputs": [],
   "source": [
    "best_models = {\"SVC\":None, \"DecisionTree\": None, \"RandomForest\": None, \"NeuralNetwork\": None, \"KNN\": None}"
   ]
  },
  {
   "cell_type": "markdown",
   "metadata": {
    "id": "duJNg-9aQrqm"
   },
   "source": [
    "### SVC"
   ]
  },
  {
   "cell_type": "code",
   "execution_count": 28,
   "metadata": {
    "colab": {
     "base_uri": "https://localhost:8080/"
    },
    "id": "3m3NG129Qvey",
    "outputId": "da1e908a-9261-48d2-a2fa-752ffb5cc3da"
   },
   "outputs": [
    {
     "data": {
      "text/plain": [
       "GridSearchCV(estimator=SVC(),\n",
       "             param_grid={'C': [0.001, 0.01, 0.1, 1, 10, 100, 1000],\n",
       "                         'gamma': [0.001, 0.01, 0.1, 1, 10, 100, 1000],\n",
       "                         'kernel': ['rbf', 'sigmoid']})"
      ]
     },
     "execution_count": 28,
     "metadata": {},
     "output_type": "execute_result"
    }
   ],
   "source": [
    "clf_SVC = SVC()\n",
    "parameters = {\n",
    "    'kernel': ['rbf', 'sigmoid'],\n",
    "    'C': [0.001, 0.01, 0.1, 1, 10 , 100, 1000],\n",
    "    'gamma': [0.001, 0.01, 0.1, 1, 10 , 100, 1000]\n",
    "}\n",
    "SVC = GridSearchCV(clf_SVC, parameters)\n",
    "SVC.fit(X_train, y_train)"
   ]
  },
  {
   "cell_type": "code",
   "execution_count": 29,
   "metadata": {
    "colab": {
     "base_uri": "https://localhost:8080/"
    },
    "id": "aZkOy4JeXAVI",
    "outputId": "d093bc4e-2809-468f-8eaf-4c8cac9cdbbf"
   },
   "outputs": [
    {
     "name": "stdout",
     "output_type": "stream",
     "text": [
      "SVC(C=1000, gamma=0.001, kernel='sigmoid')\n",
      "{'C': 1000, 'gamma': 0.001, 'kernel': 'sigmoid'}\n",
      "0.8305851063829787\n"
     ]
    }
   ],
   "source": [
    "print(SVC.best_estimator_)\n",
    "print(SVC.best_params_)\n",
    "print(SVC.best_score_)"
   ]
  },
  {
   "cell_type": "code",
   "execution_count": 30,
   "metadata": {
    "colab": {
     "base_uri": "https://localhost:8080/"
    },
    "id": "a3CunJMSXWoH",
    "outputId": "cbc5b81b-22bb-4d6e-aba0-7a02a10b5331"
   },
   "outputs": [
    {
     "name": "stdout",
     "output_type": "stream",
     "text": [
      "{'SVC': SVC(C=1000, gamma=0.001, kernel='sigmoid'), 'DecisionTree': None, 'RandomForest': None, 'NeuralNetwork': None, 'KNN': None}\n"
     ]
    }
   ],
   "source": [
    "best_models[\"SVC\"] = SVC.best_estimator_\n",
    "print(best_models)"
   ]
  },
  {
   "cell_type": "markdown",
   "metadata": {
    "id": "m-6AygDIPv3m"
   },
   "source": [
    "### Decision Tree"
   ]
  },
  {
   "cell_type": "code",
   "execution_count": 31,
   "metadata": {
    "colab": {
     "base_uri": "https://localhost:8080/"
    },
    "id": "Qx8V2yi59oTc",
    "outputId": "ff056a33-c7bf-4cc4-90f7-706ad8e7d087"
   },
   "outputs": [
    {
     "data": {
      "text/plain": [
       "GridSearchCV(estimator=DecisionTreeClassifier(),\n",
       "             param_grid={'max_depth': [2, 4, 6, 8, 10],\n",
       "                         'max_leaf_nodes': [2, 4, 6, 8, 10],\n",
       "                         'splitter': ['best', 'random']})"
      ]
     },
     "execution_count": 31,
     "metadata": {},
     "output_type": "execute_result"
    }
   ],
   "source": [
    "clf_DT = DecisionTreeClassifier()\n",
    "parameters = {\n",
    "    'splitter': ['best', 'random'],\n",
    "    'max_depth': [2, 4, 6, 8, 10],\n",
    "    'max_leaf_nodes': [2, 4, 6, 8, 10]\n",
    "}\n",
    "DecisionTree = GridSearchCV(clf_DT, parameters)\n",
    "DecisionTree.fit(X_train, y_train)"
   ]
  },
  {
   "cell_type": "code",
   "execution_count": 32,
   "metadata": {
    "colab": {
     "base_uri": "https://localhost:8080/"
    },
    "id": "sByXZzEMa99K",
    "outputId": "dcaa7874-e883-4609-c14a-7f1d3e2129e9"
   },
   "outputs": [
    {
     "name": "stdout",
     "output_type": "stream",
     "text": [
      "DecisionTreeClassifier(max_depth=10, max_leaf_nodes=8, splitter='random')\n",
      "{'max_depth': 10, 'max_leaf_nodes': 8, 'splitter': 'random'}\n",
      "0.8179964539007093\n"
     ]
    }
   ],
   "source": [
    "print(DecisionTree.best_estimator_)\n",
    "print(DecisionTree.best_params_)\n",
    "print(DecisionTree.best_score_)"
   ]
  },
  {
   "cell_type": "code",
   "execution_count": 33,
   "metadata": {
    "colab": {
     "base_uri": "https://localhost:8080/"
    },
    "id": "20N-35Hla_3x",
    "outputId": "9838739f-35a0-46b3-fc6c-3ba935bed181"
   },
   "outputs": [
    {
     "name": "stdout",
     "output_type": "stream",
     "text": [
      "{'SVC': SVC(C=1000, gamma=0.001, kernel='sigmoid'), 'DecisionTree': DecisionTreeClassifier(max_depth=10, max_leaf_nodes=8, splitter='random'), 'RandomForest': None, 'NeuralNetwork': None, 'KNN': None}\n"
     ]
    }
   ],
   "source": [
    "best_models[\"DecisionTree\"] = DecisionTree.best_estimator_\n",
    "print(best_models)"
   ]
  },
  {
   "cell_type": "markdown",
   "metadata": {
    "id": "yVjrHGUkP9_p"
   },
   "source": [
    "### Random Forest Classifier"
   ]
  },
  {
   "cell_type": "code",
   "execution_count": 34,
   "metadata": {
    "colab": {
     "base_uri": "https://localhost:8080/"
    },
    "id": "jGlfy9KM9oTg",
    "outputId": "59d99b18-fbc0-468d-9f5d-43b3e318f0b8"
   },
   "outputs": [
    {
     "data": {
      "text/plain": [
       "GridSearchCV(estimator=RandomForestClassifier(),\n",
       "             param_grid={'max_depth': [1, 2, 3, 4, 5, 6],\n",
       "                         'n_estimators': [20, 40, 60, 80, 100, 120]})"
      ]
     },
     "execution_count": 34,
     "metadata": {},
     "output_type": "execute_result"
    }
   ],
   "source": [
    "clf_RF = RandomForestClassifier()\n",
    "parameters = {\n",
    "    'n_estimators': [20, 40, 60, 80, 100, 120],\n",
    "    'max_depth': [1, 2, 3, 4, 5, 6]\n",
    "}\n",
    "RandomForest = GridSearchCV(clf_RF, parameters)\n",
    "RandomForest.fit(X_train, y_train)"
   ]
  },
  {
   "cell_type": "code",
   "execution_count": 35,
   "metadata": {
    "colab": {
     "base_uri": "https://localhost:8080/"
    },
    "id": "twwwQwsU9oTi",
    "outputId": "c06efbe0-f19d-4f96-be32-5b4408cc133b"
   },
   "outputs": [
    {
     "name": "stdout",
     "output_type": "stream",
     "text": [
      "RandomForestClassifier(max_depth=2, n_estimators=80)\n",
      "{'max_depth': 2, 'n_estimators': 80}\n",
      "0.8431737588652484\n"
     ]
    }
   ],
   "source": [
    "print(RandomForest.best_estimator_)\n",
    "print(RandomForest.best_params_)\n",
    "print(RandomForest.best_score_)"
   ]
  },
  {
   "cell_type": "code",
   "execution_count": 36,
   "metadata": {
    "colab": {
     "base_uri": "https://localhost:8080/"
    },
    "id": "1bukyJFRdrEo",
    "outputId": "2430a9c8-cc55-4a33-fd80-788365f0dc13"
   },
   "outputs": [
    {
     "name": "stdout",
     "output_type": "stream",
     "text": [
      "{'SVC': SVC(C=1000, gamma=0.001, kernel='sigmoid'), 'DecisionTree': DecisionTreeClassifier(max_depth=10, max_leaf_nodes=8, splitter='random'), 'RandomForest': RandomForestClassifier(max_depth=2, n_estimators=80), 'NeuralNetwork': None, 'KNN': None}\n"
     ]
    }
   ],
   "source": [
    "best_models[\"RandomForest\"] = RandomForest.best_estimator_\n",
    "print(best_models)"
   ]
  },
  {
   "cell_type": "markdown",
   "metadata": {
    "id": "qsLSEM8OQEld"
   },
   "source": [
    "### Neural Network"
   ]
  },
  {
   "cell_type": "code",
   "execution_count": 37,
   "metadata": {
    "colab": {
     "base_uri": "https://localhost:8080/"
    },
    "id": "VFwwjnFoXcgp",
    "outputId": "f62dabcb-c6cd-4d9d-af6c-29be5acca1ba"
   },
   "outputs": [
    {
     "name": "stderr",
     "output_type": "stream",
     "text": [
      "C:\\Users\\gvan9\\anaconda3\\lib\\site-packages\\sklearn\\neural_network\\_multilayer_perceptron.py:614: ConvergenceWarning: Stochastic Optimizer: Maximum iterations (500) reached and the optimization hasn't converged yet.\n",
      "  warnings.warn(\n",
      "C:\\Users\\gvan9\\anaconda3\\lib\\site-packages\\sklearn\\neural_network\\_multilayer_perceptron.py:614: ConvergenceWarning: Stochastic Optimizer: Maximum iterations (500) reached and the optimization hasn't converged yet.\n",
      "  warnings.warn(\n",
      "C:\\Users\\gvan9\\anaconda3\\lib\\site-packages\\sklearn\\neural_network\\_multilayer_perceptron.py:614: ConvergenceWarning: Stochastic Optimizer: Maximum iterations (500) reached and the optimization hasn't converged yet.\n",
      "  warnings.warn(\n",
      "C:\\Users\\gvan9\\anaconda3\\lib\\site-packages\\sklearn\\neural_network\\_multilayer_perceptron.py:614: ConvergenceWarning: Stochastic Optimizer: Maximum iterations (500) reached and the optimization hasn't converged yet.\n",
      "  warnings.warn(\n",
      "C:\\Users\\gvan9\\anaconda3\\lib\\site-packages\\sklearn\\neural_network\\_multilayer_perceptron.py:614: ConvergenceWarning: Stochastic Optimizer: Maximum iterations (500) reached and the optimization hasn't converged yet.\n",
      "  warnings.warn(\n",
      "C:\\Users\\gvan9\\anaconda3\\lib\\site-packages\\sklearn\\neural_network\\_multilayer_perceptron.py:614: ConvergenceWarning: Stochastic Optimizer: Maximum iterations (500) reached and the optimization hasn't converged yet.\n",
      "  warnings.warn(\n",
      "C:\\Users\\gvan9\\anaconda3\\lib\\site-packages\\sklearn\\neural_network\\_multilayer_perceptron.py:614: ConvergenceWarning: Stochastic Optimizer: Maximum iterations (500) reached and the optimization hasn't converged yet.\n",
      "  warnings.warn(\n",
      "C:\\Users\\gvan9\\anaconda3\\lib\\site-packages\\sklearn\\neural_network\\_multilayer_perceptron.py:614: ConvergenceWarning: Stochastic Optimizer: Maximum iterations (500) reached and the optimization hasn't converged yet.\n",
      "  warnings.warn(\n",
      "C:\\Users\\gvan9\\anaconda3\\lib\\site-packages\\sklearn\\neural_network\\_multilayer_perceptron.py:614: ConvergenceWarning: Stochastic Optimizer: Maximum iterations (500) reached and the optimization hasn't converged yet.\n",
      "  warnings.warn(\n",
      "C:\\Users\\gvan9\\anaconda3\\lib\\site-packages\\sklearn\\neural_network\\_multilayer_perceptron.py:614: ConvergenceWarning: Stochastic Optimizer: Maximum iterations (500) reached and the optimization hasn't converged yet.\n",
      "  warnings.warn(\n",
      "C:\\Users\\gvan9\\anaconda3\\lib\\site-packages\\sklearn\\neural_network\\_multilayer_perceptron.py:614: ConvergenceWarning: Stochastic Optimizer: Maximum iterations (500) reached and the optimization hasn't converged yet.\n",
      "  warnings.warn(\n",
      "C:\\Users\\gvan9\\anaconda3\\lib\\site-packages\\sklearn\\neural_network\\_multilayer_perceptron.py:614: ConvergenceWarning: Stochastic Optimizer: Maximum iterations (500) reached and the optimization hasn't converged yet.\n",
      "  warnings.warn(\n",
      "C:\\Users\\gvan9\\anaconda3\\lib\\site-packages\\sklearn\\neural_network\\_multilayer_perceptron.py:614: ConvergenceWarning: Stochastic Optimizer: Maximum iterations (500) reached and the optimization hasn't converged yet.\n",
      "  warnings.warn(\n",
      "C:\\Users\\gvan9\\anaconda3\\lib\\site-packages\\sklearn\\neural_network\\_multilayer_perceptron.py:614: ConvergenceWarning: Stochastic Optimizer: Maximum iterations (500) reached and the optimization hasn't converged yet.\n",
      "  warnings.warn(\n",
      "C:\\Users\\gvan9\\anaconda3\\lib\\site-packages\\sklearn\\neural_network\\_multilayer_perceptron.py:614: ConvergenceWarning: Stochastic Optimizer: Maximum iterations (500) reached and the optimization hasn't converged yet.\n",
      "  warnings.warn(\n",
      "C:\\Users\\gvan9\\anaconda3\\lib\\site-packages\\sklearn\\neural_network\\_multilayer_perceptron.py:614: ConvergenceWarning: Stochastic Optimizer: Maximum iterations (500) reached and the optimization hasn't converged yet.\n",
      "  warnings.warn(\n",
      "C:\\Users\\gvan9\\anaconda3\\lib\\site-packages\\sklearn\\neural_network\\_multilayer_perceptron.py:614: ConvergenceWarning: Stochastic Optimizer: Maximum iterations (500) reached and the optimization hasn't converged yet.\n",
      "  warnings.warn(\n",
      "C:\\Users\\gvan9\\anaconda3\\lib\\site-packages\\sklearn\\neural_network\\_multilayer_perceptron.py:614: ConvergenceWarning: Stochastic Optimizer: Maximum iterations (500) reached and the optimization hasn't converged yet.\n",
      "  warnings.warn(\n",
      "C:\\Users\\gvan9\\anaconda3\\lib\\site-packages\\sklearn\\neural_network\\_multilayer_perceptron.py:614: ConvergenceWarning: Stochastic Optimizer: Maximum iterations (500) reached and the optimization hasn't converged yet.\n",
      "  warnings.warn(\n",
      "C:\\Users\\gvan9\\anaconda3\\lib\\site-packages\\sklearn\\neural_network\\_multilayer_perceptron.py:614: ConvergenceWarning: Stochastic Optimizer: Maximum iterations (500) reached and the optimization hasn't converged yet.\n",
      "  warnings.warn(\n",
      "C:\\Users\\gvan9\\anaconda3\\lib\\site-packages\\sklearn\\neural_network\\_multilayer_perceptron.py:614: ConvergenceWarning: Stochastic Optimizer: Maximum iterations (500) reached and the optimization hasn't converged yet.\n",
      "  warnings.warn(\n",
      "C:\\Users\\gvan9\\anaconda3\\lib\\site-packages\\sklearn\\neural_network\\_multilayer_perceptron.py:614: ConvergenceWarning: Stochastic Optimizer: Maximum iterations (500) reached and the optimization hasn't converged yet.\n",
      "  warnings.warn(\n",
      "C:\\Users\\gvan9\\anaconda3\\lib\\site-packages\\sklearn\\neural_network\\_multilayer_perceptron.py:614: ConvergenceWarning: Stochastic Optimizer: Maximum iterations (500) reached and the optimization hasn't converged yet.\n",
      "  warnings.warn(\n",
      "C:\\Users\\gvan9\\anaconda3\\lib\\site-packages\\sklearn\\neural_network\\_multilayer_perceptron.py:614: ConvergenceWarning: Stochastic Optimizer: Maximum iterations (500) reached and the optimization hasn't converged yet.\n",
      "  warnings.warn(\n",
      "C:\\Users\\gvan9\\anaconda3\\lib\\site-packages\\sklearn\\neural_network\\_multilayer_perceptron.py:614: ConvergenceWarning: Stochastic Optimizer: Maximum iterations (500) reached and the optimization hasn't converged yet.\n",
      "  warnings.warn(\n",
      "C:\\Users\\gvan9\\anaconda3\\lib\\site-packages\\sklearn\\neural_network\\_multilayer_perceptron.py:614: ConvergenceWarning: Stochastic Optimizer: Maximum iterations (500) reached and the optimization hasn't converged yet.\n",
      "  warnings.warn(\n",
      "C:\\Users\\gvan9\\anaconda3\\lib\\site-packages\\sklearn\\neural_network\\_multilayer_perceptron.py:614: ConvergenceWarning: Stochastic Optimizer: Maximum iterations (500) reached and the optimization hasn't converged yet.\n",
      "  warnings.warn(\n",
      "C:\\Users\\gvan9\\anaconda3\\lib\\site-packages\\sklearn\\neural_network\\_multilayer_perceptron.py:614: ConvergenceWarning: Stochastic Optimizer: Maximum iterations (500) reached and the optimization hasn't converged yet.\n",
      "  warnings.warn(\n",
      "C:\\Users\\gvan9\\anaconda3\\lib\\site-packages\\sklearn\\neural_network\\_multilayer_perceptron.py:614: ConvergenceWarning: Stochastic Optimizer: Maximum iterations (500) reached and the optimization hasn't converged yet.\n",
      "  warnings.warn(\n",
      "C:\\Users\\gvan9\\anaconda3\\lib\\site-packages\\sklearn\\neural_network\\_multilayer_perceptron.py:614: ConvergenceWarning: Stochastic Optimizer: Maximum iterations (500) reached and the optimization hasn't converged yet.\n",
      "  warnings.warn(\n",
      "C:\\Users\\gvan9\\anaconda3\\lib\\site-packages\\sklearn\\neural_network\\_multilayer_perceptron.py:614: ConvergenceWarning: Stochastic Optimizer: Maximum iterations (500) reached and the optimization hasn't converged yet.\n",
      "  warnings.warn(\n",
      "C:\\Users\\gvan9\\anaconda3\\lib\\site-packages\\sklearn\\neural_network\\_multilayer_perceptron.py:614: ConvergenceWarning: Stochastic Optimizer: Maximum iterations (500) reached and the optimization hasn't converged yet.\n",
      "  warnings.warn(\n",
      "C:\\Users\\gvan9\\anaconda3\\lib\\site-packages\\sklearn\\neural_network\\_multilayer_perceptron.py:614: ConvergenceWarning: Stochastic Optimizer: Maximum iterations (500) reached and the optimization hasn't converged yet.\n",
      "  warnings.warn(\n",
      "C:\\Users\\gvan9\\anaconda3\\lib\\site-packages\\sklearn\\neural_network\\_multilayer_perceptron.py:614: ConvergenceWarning: Stochastic Optimizer: Maximum iterations (500) reached and the optimization hasn't converged yet.\n",
      "  warnings.warn(\n",
      "C:\\Users\\gvan9\\anaconda3\\lib\\site-packages\\sklearn\\neural_network\\_multilayer_perceptron.py:614: ConvergenceWarning: Stochastic Optimizer: Maximum iterations (500) reached and the optimization hasn't converged yet.\n",
      "  warnings.warn(\n",
      "C:\\Users\\gvan9\\anaconda3\\lib\\site-packages\\sklearn\\neural_network\\_multilayer_perceptron.py:614: ConvergenceWarning: Stochastic Optimizer: Maximum iterations (500) reached and the optimization hasn't converged yet.\n",
      "  warnings.warn(\n"
     ]
    },
    {
     "data": {
      "text/plain": [
       "GridSearchCV(estimator=MLPClassifier(max_iter=500),\n",
       "             param_grid={'activation': ['relu', 'logistic'],\n",
       "                         'hidden_layer_sizes': [(50,), (100,), (50, 50),\n",
       "                                                (100, 100)],\n",
       "                         'learning_rate': ['adaptive', 'invscaling']})"
      ]
     },
     "execution_count": 37,
     "metadata": {},
     "output_type": "execute_result"
    }
   ],
   "source": [
    "clf_NN = MLPClassifier(max_iter=500)\n",
    "parameters = {\n",
    "    'hidden_layer_sizes': [(50,), (100,), (50,50,), (100,100,)],\n",
    "    'learning_rate': ['adaptive','invscaling'],\n",
    "    'activation': ['relu','logistic']}\n",
    "NN = GridSearchCV(clf_NN, parameters)\n",
    "NN.fit(X_train, y_train)"
   ]
  },
  {
   "cell_type": "code",
   "execution_count": 38,
   "metadata": {
    "colab": {
     "base_uri": "https://localhost:8080/"
    },
    "id": "P7Y61Il6fJwE",
    "outputId": "e0f8f3ee-eab6-4608-b422-a35a5da2c636"
   },
   "outputs": [
    {
     "name": "stdout",
     "output_type": "stream",
     "text": [
      "MLPClassifier(activation='logistic', hidden_layer_sizes=(100, 100),\n",
      "              learning_rate='invscaling', max_iter=500)\n",
      "{'activation': 'logistic', 'hidden_layer_sizes': (100, 100), 'learning_rate': 'invscaling'}\n",
      "0.813741134751773\n"
     ]
    }
   ],
   "source": [
    "print(NN.best_estimator_)\n",
    "print(NN.best_params_)\n",
    "print(NN.best_score_)"
   ]
  },
  {
   "cell_type": "code",
   "execution_count": 39,
   "metadata": {
    "colab": {
     "base_uri": "https://localhost:8080/"
    },
    "id": "eu88OmT_fL8n",
    "outputId": "876a199e-0041-47b7-c7a2-35c26aac8085"
   },
   "outputs": [
    {
     "name": "stdout",
     "output_type": "stream",
     "text": [
      "{'SVC': SVC(C=1000, gamma=0.001, kernel='sigmoid'), 'DecisionTree': DecisionTreeClassifier(max_depth=10, max_leaf_nodes=8, splitter='random'), 'RandomForest': RandomForestClassifier(max_depth=2, n_estimators=80), 'NeuralNetwork': MLPClassifier(activation='logistic', hidden_layer_sizes=(100, 100),\n",
      "              learning_rate='invscaling', max_iter=500), 'KNN': None}\n"
     ]
    }
   ],
   "source": [
    "best_models[\"NeuralNetwork\"] = NN.best_estimator_\n",
    "print(best_models)"
   ]
  },
  {
   "cell_type": "markdown",
   "metadata": {
    "id": "TUssXFtFqzRq"
   },
   "source": [
    "### KNN\n"
   ]
  },
  {
   "cell_type": "code",
   "execution_count": 40,
   "metadata": {
    "colab": {
     "base_uri": "https://localhost:8080/"
    },
    "id": "Tx8uF21HqvHh",
    "outputId": "cd4d3a5b-052d-4e07-d106-59695433742d"
   },
   "outputs": [
    {
     "data": {
      "text/plain": [
       "GridSearchCV(estimator=KNeighborsClassifier(),\n",
       "             param_grid={'algorithm': ['auto', 'kd_tree'],\n",
       "                         'leaf_size': [1, 3, 5, 7, 9, 11, 13, 17, 23, 30],\n",
       "                         'n_jobs': [-1],\n",
       "                         'n_neighbors': [1, 3, 5, 7, 8, 9, 11, 15]})"
      ]
     },
     "execution_count": 40,
     "metadata": {},
     "output_type": "execute_result"
    }
   ],
   "source": [
    "knn = KNeighborsClassifier()\n",
    "parameters = {\n",
    "    'n_neighbors': [1, 3, 5, 7, 8, 9, 11, 15],\n",
    "    'leaf_size':[1,3,5,7,9,11,13,17,23,30],\n",
    "              'algorithm':['auto', 'kd_tree'],\n",
    "              'n_jobs':[-1]\n",
    "}\n",
    "gs_knn = GridSearchCV(knn, parameters)\n",
    "gs_knn.fit(X_train, y_train)"
   ]
  },
  {
   "cell_type": "code",
   "execution_count": 41,
   "metadata": {
    "colab": {
     "base_uri": "https://localhost:8080/"
    },
    "id": "FPdh0432v5un",
    "outputId": "decd0843-e61d-4938-f87b-d0128ef38868"
   },
   "outputs": [
    {
     "name": "stdout",
     "output_type": "stream",
     "text": [
      "KNeighborsClassifier(leaf_size=1, n_jobs=-1, n_neighbors=11)\n",
      "{'algorithm': 'auto', 'leaf_size': 1, 'n_jobs': -1, 'n_neighbors': 11}\n",
      "0.801063829787234\n"
     ]
    }
   ],
   "source": [
    "print(gs_knn.best_estimator_)\n",
    "print(gs_knn.best_params_)\n",
    "print(gs_knn.best_score_)"
   ]
  },
  {
   "cell_type": "code",
   "execution_count": 42,
   "metadata": {
    "colab": {
     "base_uri": "https://localhost:8080/"
    },
    "id": "wDh3_FokwF-4",
    "outputId": "1fb1e253-47da-4676-8f03-bac5fffdf311"
   },
   "outputs": [
    {
     "name": "stdout",
     "output_type": "stream",
     "text": [
      "{'SVC': SVC(C=1000, gamma=0.001, kernel='sigmoid'), 'DecisionTree': DecisionTreeClassifier(max_depth=10, max_leaf_nodes=8, splitter='random'), 'RandomForest': RandomForestClassifier(max_depth=2, n_estimators=80), 'NeuralNetwork': MLPClassifier(activation='logistic', hidden_layer_sizes=(100, 100),\n",
      "              learning_rate='invscaling', max_iter=500), 'KNN': KNeighborsClassifier(leaf_size=1, n_jobs=-1, n_neighbors=11)}\n"
     ]
    }
   ],
   "source": [
    "best_models[\"KNN\"] = gs_knn.best_estimator_\n",
    "print(best_models)"
   ]
  },
  {
   "cell_type": "markdown",
   "metadata": {
    "id": "z92bCjvnfbXT"
   },
   "source": [
    "## Evaluating the Models"
   ]
  },
  {
   "cell_type": "markdown",
   "metadata": {
    "id": "riFaYtxnNJtu"
   },
   "source": [
    "### Metrics on Training Data\n",
    "First we will evaluate the different models on the training data to determine which model we will use on the test data."
   ]
  },
  {
   "cell_type": "code",
   "execution_count": 43,
   "metadata": {
    "colab": {
     "base_uri": "https://localhost:8080/"
    },
    "id": "bbaBw4eOfuJy",
    "outputId": "ee6d098a-5565-4b33-dab6-b3ba01340088"
   },
   "outputs": [
    {
     "name": "stdout",
     "output_type": "stream",
     "text": [
      "SVC\n",
      "Accuracy: 0.848 / Precision: 0.854 / Recall: 0.807 / Latency: 0.0ms\n",
      "\n",
      "Confusion Matrix:\n",
      "             Pred_Neg  Pred_Pos\n",
      "Actual_Neg       113        15\n",
      "Actual_Pos        21        88\n",
      "\n",
      "Classification Report:\n",
      "               precision    recall  f1-score   support\n",
      "\n",
      "           0       0.84      0.88      0.86       128\n",
      "           1       0.85      0.81      0.83       109\n",
      "\n",
      "    accuracy                           0.85       237\n",
      "   macro avg       0.85      0.85      0.85       237\n",
      "weighted avg       0.85      0.85      0.85       237\n",
      "\n",
      "\n",
      "\n",
      "\n",
      "\n",
      "DecisionTree\n",
      "Accuracy: 0.848 / Precision: 0.884 / Recall: 0.771 / Latency: 0.0ms\n",
      "\n",
      "Confusion Matrix:\n",
      "             Pred_Neg  Pred_Pos\n",
      "Actual_Neg       117        11\n",
      "Actual_Pos        25        84\n",
      "\n",
      "Classification Report:\n",
      "               precision    recall  f1-score   support\n",
      "\n",
      "           0       0.82      0.91      0.87       128\n",
      "           1       0.88      0.77      0.82       109\n",
      "\n",
      "    accuracy                           0.85       237\n",
      "   macro avg       0.85      0.84      0.85       237\n",
      "weighted avg       0.85      0.85      0.85       237\n",
      "\n",
      "\n",
      "\n",
      "\n",
      "\n",
      "RandomForest\n",
      "Accuracy: 0.865 / Precision: 0.897 / Recall: 0.798 / Latency: 9.96ms\n",
      "\n",
      "Confusion Matrix:\n",
      "             Pred_Neg  Pred_Pos\n",
      "Actual_Neg       118        10\n",
      "Actual_Pos        22        87\n",
      "\n",
      "Classification Report:\n",
      "               precision    recall  f1-score   support\n",
      "\n",
      "           0       0.84      0.92      0.88       128\n",
      "           1       0.90      0.80      0.84       109\n",
      "\n",
      "    accuracy                           0.86       237\n",
      "   macro avg       0.87      0.86      0.86       237\n",
      "weighted avg       0.87      0.86      0.86       237\n",
      "\n",
      "\n",
      "\n",
      "\n",
      "\n",
      "NeuralNetwork\n",
      "Accuracy: 0.844 / Precision: 0.84 / Recall: 0.817 / Latency: 0.0ms\n",
      "\n",
      "Confusion Matrix:\n",
      "             Pred_Neg  Pred_Pos\n",
      "Actual_Neg       111        17\n",
      "Actual_Pos        20        89\n",
      "\n",
      "Classification Report:\n",
      "               precision    recall  f1-score   support\n",
      "\n",
      "           0       0.85      0.87      0.86       128\n",
      "           1       0.84      0.82      0.83       109\n",
      "\n",
      "    accuracy                           0.84       237\n",
      "   macro avg       0.84      0.84      0.84       237\n",
      "weighted avg       0.84      0.84      0.84       237\n",
      "\n",
      "\n",
      "\n",
      "\n",
      "\n",
      "KNN\n",
      "Accuracy: 0.84 / Precision: 0.845 / Recall: 0.798 / Latency: 20.04ms\n",
      "\n",
      "Confusion Matrix:\n",
      "             Pred_Neg  Pred_Pos\n",
      "Actual_Neg       112        16\n",
      "Actual_Pos        22        87\n",
      "\n",
      "Classification Report:\n",
      "               precision    recall  f1-score   support\n",
      "\n",
      "           0       0.84      0.88      0.85       128\n",
      "           1       0.84      0.80      0.82       109\n",
      "\n",
      "    accuracy                           0.84       237\n",
      "   macro avg       0.84      0.84      0.84       237\n",
      "weighted avg       0.84      0.84      0.84       237\n",
      "\n",
      "\n",
      "\n",
      "\n",
      "\n"
     ]
    }
   ],
   "source": [
    "#Create a function that will print out the metrics for each model\n",
    "#Return the model, accuracy and recall. See the \"Conclusion\" section of the write-up for reasons why we chose these metrics.\n",
    "def evaluate_model(name, model, features, labels):\n",
    "    start = time()\n",
    "    pred = model.predict(features)\n",
    "    end = time()\n",
    "    confusion = confusion_matrix(labels, pred)\n",
    "    accuracy = round(accuracy_score(labels, pred), 3)\n",
    "    precision = round(precision_score(labels, pred), 3)\n",
    "    recall = round(recall_score(labels, pred), 3)\n",
    "    df_confusion = pd.DataFrame(confusion, columns = ['Pred_Neg' , 'Pred_Pos'], index=['Actual_Neg' , 'Actual_Pos'])\n",
    "    print(name)\n",
    "    print('Accuracy: {} / Precision: {} / Recall: {} / Latency: {}ms'.format(accuracy, \n",
    "                                                                                   precision, recall, \n",
    "                                                                                   round((end - start)*1000, 2)))\n",
    "    print('\\nConfusion Matrix:\\n', df_confusion)\n",
    "    print('\\nClassification Report:\\n', classification_report(labels, pred))\n",
    "    print('\\n')\n",
    "    print('\\n')\n",
    "    return name, accuracy, recall\n",
    "\n",
    "#Save the accuracies and recall score\n",
    "train_results = []\n",
    "for name, mdl in best_models.items():\n",
    "    result = evaluate_model(name, mdl, X_train, y_train)\n",
    "    train_results.append(result)"
   ]
  },
  {
   "cell_type": "markdown",
   "metadata": {
    "id": "PgnT8qdAa3zR"
   },
   "source": [
    "### Metrics on Test Data\n",
    "Next, we will evaluate all the model's performances on the test data."
   ]
  },
  {
   "cell_type": "code",
   "execution_count": 44,
   "metadata": {
    "colab": {
     "base_uri": "https://localhost:8080/"
    },
    "id": "T9ZjDOr9bJPK",
    "outputId": "f5e090ec-ad60-4849-8eec-b7b475e05a80"
   },
   "outputs": [
    {
     "name": "stdout",
     "output_type": "stream",
     "text": [
      "SVC\n",
      "Accuracy: 0.867 / Precision: 0.917 / Recall: 0.786 / Latency: 0.0ms\n",
      "\n",
      "Confusion Matrix:\n",
      "             Pred_Neg  Pred_Pos\n",
      "Actual_Neg        30         2\n",
      "Actual_Pos         6        22\n",
      "\n",
      "Classification Report:\n",
      "               precision    recall  f1-score   support\n",
      "\n",
      "           0       0.83      0.94      0.88        32\n",
      "           1       0.92      0.79      0.85        28\n",
      "\n",
      "    accuracy                           0.87        60\n",
      "   macro avg       0.88      0.86      0.86        60\n",
      "weighted avg       0.87      0.87      0.87        60\n",
      "\n",
      "\n",
      "\n",
      "\n",
      "\n",
      "DecisionTree\n",
      "Accuracy: 0.833 / Precision: 1.0 / Recall: 0.643 / Latency: 0.0ms\n",
      "\n",
      "Confusion Matrix:\n",
      "             Pred_Neg  Pred_Pos\n",
      "Actual_Neg        32         0\n",
      "Actual_Pos        10        18\n",
      "\n",
      "Classification Report:\n",
      "               precision    recall  f1-score   support\n",
      "\n",
      "           0       0.76      1.00      0.86        32\n",
      "           1       1.00      0.64      0.78        28\n",
      "\n",
      "    accuracy                           0.83        60\n",
      "   macro avg       0.88      0.82      0.82        60\n",
      "weighted avg       0.87      0.83      0.83        60\n",
      "\n",
      "\n",
      "\n",
      "\n",
      "\n",
      "RandomForest\n",
      "Accuracy: 0.833 / Precision: 0.909 / Recall: 0.714 / Latency: 9.99ms\n",
      "\n",
      "Confusion Matrix:\n",
      "             Pred_Neg  Pred_Pos\n",
      "Actual_Neg        30         2\n",
      "Actual_Pos         8        20\n",
      "\n",
      "Classification Report:\n",
      "               precision    recall  f1-score   support\n",
      "\n",
      "           0       0.79      0.94      0.86        32\n",
      "           1       0.91      0.71      0.80        28\n",
      "\n",
      "    accuracy                           0.83        60\n",
      "   macro avg       0.85      0.83      0.83        60\n",
      "weighted avg       0.85      0.83      0.83        60\n",
      "\n",
      "\n",
      "\n",
      "\n",
      "\n",
      "NeuralNetwork\n",
      "Accuracy: 0.85 / Precision: 0.852 / Recall: 0.821 / Latency: 0.0ms\n",
      "\n",
      "Confusion Matrix:\n",
      "             Pred_Neg  Pred_Pos\n",
      "Actual_Neg        28         4\n",
      "Actual_Pos         5        23\n",
      "\n",
      "Classification Report:\n",
      "               precision    recall  f1-score   support\n",
      "\n",
      "           0       0.85      0.88      0.86        32\n",
      "           1       0.85      0.82      0.84        28\n",
      "\n",
      "    accuracy                           0.85        60\n",
      "   macro avg       0.85      0.85      0.85        60\n",
      "weighted avg       0.85      0.85      0.85        60\n",
      "\n",
      "\n",
      "\n",
      "\n",
      "\n",
      "KNN\n",
      "Accuracy: 0.817 / Precision: 0.84 / Recall: 0.75 / Latency: 12.06ms\n",
      "\n",
      "Confusion Matrix:\n",
      "             Pred_Neg  Pred_Pos\n",
      "Actual_Neg        28         4\n",
      "Actual_Pos         7        21\n",
      "\n",
      "Classification Report:\n",
      "               precision    recall  f1-score   support\n",
      "\n",
      "           0       0.80      0.88      0.84        32\n",
      "           1       0.84      0.75      0.79        28\n",
      "\n",
      "    accuracy                           0.82        60\n",
      "   macro avg       0.82      0.81      0.81        60\n",
      "weighted avg       0.82      0.82      0.82        60\n",
      "\n",
      "\n",
      "\n",
      "\n",
      "\n"
     ]
    }
   ],
   "source": [
    "#Save the accuracies and recall score\n",
    "test_results = []\n",
    "for name, mdl in best_models.items():\n",
    "    result = evaluate_model(name, mdl, X_test, y_test)\n",
    "    test_results.append(result)"
   ]
  },
  {
   "cell_type": "markdown",
   "metadata": {
    "id": "bjRyzJPXFEhB"
   },
   "source": [
    "### Graph of Results"
   ]
  },
  {
   "cell_type": "code",
   "execution_count": 45,
   "metadata": {
    "colab": {
     "base_uri": "https://localhost:8080/"
    },
    "id": "GNFa40OyFE6k",
    "outputId": "45a0650a-3373-4cb8-e7ab-cfd50734f1af"
   },
   "outputs": [
    {
     "name": "stdout",
     "output_type": "stream",
     "text": [
      "Training Results\n",
      "\n",
      "          Models  Accuracy  Recall\n",
      "0            SVC     0.848   0.807\n",
      "1   DecisionTree     0.848   0.771\n",
      "2   RandomForest     0.865   0.798\n",
      "3  NeuralNetwork     0.844   0.817\n",
      "4            KNN     0.840   0.798\n",
      "\n",
      "\n",
      "Test Results\n",
      "\n",
      "          Models  Accuracy  Recall\n",
      "0            SVC     0.867   0.786\n",
      "1   DecisionTree     0.833   0.643\n",
      "2   RandomForest     0.833   0.714\n",
      "3  NeuralNetwork     0.850   0.821\n",
      "4            KNN     0.817   0.750\n"
     ]
    }
   ],
   "source": [
    "#For this data set we are just going to evaluate the models based on Accuracy and Recall\n",
    "from pandas import DataFrame\n",
    "train_results_df = DataFrame (train_results,columns=['Models','Accuracy','Recall'])\n",
    "test_results_df = DataFrame (test_results,columns=['Models','Accuracy','Recall'])\n",
    "print(\"Training Results\\n\")\n",
    "print(train_results_df)\n",
    "print(\"\\n\")\n",
    "print(\"Test Results\\n\")\n",
    "print(test_results_df)"
   ]
  },
  {
   "cell_type": "code",
   "execution_count": 46,
   "metadata": {
    "colab": {
     "base_uri": "https://localhost:8080/",
     "height": 324
    },
    "id": "7oMXnqJqVrSF",
    "outputId": "c72b5e02-6edc-40df-b452-3df1d1c57541"
   },
   "outputs": [
    {
     "data": {
      "text/plain": [
       "Text(0.5, 1.0, 'Results on Test Data')"
      ]
     },
     "execution_count": 46,
     "metadata": {},
     "output_type": "execute_result"
    },
    {
     "data": {
      "image/png": "[encoded data removed]",
      "text/plain": [
       "<Figure size 626.641x360 with 1 Axes>"
      ]
     },
     "metadata": {
      "needs_background": "light"
     },
     "output_type": "display_data"
    }
   ],
   "source": [
    "#Graph both the accuracy and recall of the test results for each model\n",
    "tidy = test_results_df.melt(id_vars='Models').rename(columns=str.title) #First restructure the data with melt so it is easier to plot.\n",
    "g = sns.catplot(x=\"Models\", y=\"Value\", hue=\"Variable\", kind=\"bar\", data=tidy, aspect=1.5)\n",
    "g.set(ylabel='Score')\n",
    "plt.title('Results on Test Data')"
   ]
  },
  {
   "cell_type": "code",
   "execution_count": 47,
   "metadata": {
    "colab": {
     "base_uri": "https://localhost:8080/",
     "height": 363
    },
    "id": "Pya_pFS3QKFO",
    "outputId": "267908a2-5ae6-47b1-ef87-24588915c582"
   },
   "outputs": [
    {
     "data": {
      "text/plain": [
       "Text(0.5, 1.0, 'Training and Testing Accuracies')"
      ]
     },
     "execution_count": 47,
     "metadata": {},
     "output_type": "execute_result"
    },
    {
     "data": {
      "image/png": "[encoded data removed]",
      "text/plain": [
       "<Figure size 603.641x360 with 1 Axes>"
      ]
     },
     "metadata": {
      "needs_background": "light"
     },
     "output_type": "display_data"
    }
   ],
   "source": [
    "#Graph the accuracies for both the training and test data for each model.\n",
    "#First will combine the results for both the training and test data.\n",
    "ds_type = ['Train'] * 5\n",
    "train_results_df['Type'] = ds_type\n",
    "ds_type = ['Test'] * 5\n",
    "test_results_df['Type'] = ds_type\n",
    "results_df = pd.concat([train_results_df, test_results_df])\n",
    "sns.catplot(x=\"Models\", y=\"Accuracy\", hue=\"Type\", kind=\"bar\", data=results_df, aspect=1.5)\n",
    "plt.title('Training and Testing Accuracies')"
   ]
  },
  {
   "cell_type": "markdown",
   "metadata": {},
   "source": [
    "## Conclusion"
   ]
  },
  {
   "cell_type": "markdown",
   "metadata": {},
   "source": [
    "When comparing results of different models, it is important to understand the data and problem that is being analyzed. Since this dataset is determining whether or not heart disease is present or not in a patient, it is very important and much more critical that our classifier does NOT mislabel someone with heart disease as not having it present than to mislabel someone without heart disease as having some presence of it. This means that recall is much more important than precision as we would rather be more conservative and error on the side of labeling more patients with some level of heart disease so that we do not miss possible treatments. Being more conservative will mean that we have more false positives but the patient can always seek out more medical test to validate if they actually have heart disease. This is better than the alternative of having a patient miss early detection and treatment because of a false negative result.\n",
    "\n",
    "In this particular dataset, the neural network model had the highest score in recall for the test results and also scored comparatively high in accuracy as well. Weighing out accuracy metrics are far more important in a heavily imbalanced dataset such as prediction of cancer where most of the dataset labels are usually noncancerous. The ground truth split for our data was 160 instances of no heart disease and 137 instances of some kind of presence of heart disease which means the data is split fairly well. As a consequence, the accuracy, macro average and weighted average are within 1% of each other for every model's results. \n",
    "\n",
    "Some improvements for our model could be to train on more data since we only trained on a dataset of around 190 instances after the split. We can also simplify our data and avoid overfitting by using feature reduction methods such as lasso and ridge regularization or using dimensionality reduction methods such as Principal Component Analysis (PCA)."
   ]
  }
 ],
 "metadata": {
  "colab": {
   "name": "Copy of Final_Project.ipynb",
   "provenance": []
  },
  "kernelspec": {
   "display_name": "Python 3",
   "language": "python",
   "name": "python3"
  },
  "language_info": {
   "codemirror_mode": {
    "name": "ipython",
    "version": 3
   },
   "file_extension": ".py",
   "mimetype": "text/x-python",
   "name": "python",
   "nbconvert_exporter": "python",
   "pygments_lexer": "ipython3",
   "version": "3.8.5"
  }
 },
 "nbformat": 4,
 "nbformat_minor": 4
}
